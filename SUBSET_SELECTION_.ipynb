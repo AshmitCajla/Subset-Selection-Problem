{
  "nbformat": 4,
  "nbformat_minor": 0,
  "metadata": {
    "colab": {
      "provenance": [],
      "include_colab_link": true
    },
    "kernelspec": {
      "name": "python3",
      "display_name": "Python 3"
    },
    "language_info": {
      "name": "python"
    }
  },
  "cells": [
    {
      "cell_type": "markdown",
      "metadata": {
        "id": "view-in-github",
        "colab_type": "text"
      },
      "source": [
        "<a href=\"https://colab.research.google.com/github/AshmitCajla/Subset-Selection-Problem/blob/main/SUBSET_SELECTION_.ipynb\" target=\"_parent\"><img src=\"https://colab.research.google.com/assets/colab-badge.svg\" alt=\"Open In Colab\"/></a>"
      ]
    },
    {
      "cell_type": "markdown",
      "source": [
        "## **Problem Set 1 (SET SIZE 5)**"
      ],
      "metadata": {
        "id": "F1NgC0uUkjJ9"
      }
    },
    {
      "cell_type": "code",
      "source": [
        "import random as r\n",
        "A=set([-12, -3, -6, 7, 2, -2, 6, 3, 9, -7, -5, -8, 1, 11, -9, -4])\n",
        "C=set()\n",
        "v=1000\n",
        "for i in range(v):\n",
        "  B=r.sample(A,5)\n",
        "  B.sort()\n",
        "  if (sum(B)==0):\n",
        "    C.add(tuple(B))\n",
        "for r in C:\n",
        "  print(r)"
      ],
      "metadata": {
        "colab": {
          "base_uri": "https://localhost:8080/"
        },
        "id": "xWRjG1hXlVSw",
        "outputId": "0f4d5c0b-5d08-4379-acc9-6ef49c60e52a"
      },
      "execution_count": 1,
      "outputs": [
        {
          "output_type": "stream",
          "name": "stdout",
          "text": [
            "(-12, -6, -2, 9, 11)\n",
            "(-12, -6, 1, 6, 11)\n",
            "(-6, -5, 1, 3, 7)\n",
            "(-9, -5, -4, 7, 11)\n",
            "(-7, -2, 1, 2, 6)\n",
            "(-12, -4, 2, 3, 11)\n",
            "(-4, -2, 1, 2, 3)\n",
            "(-8, -7, 1, 3, 11)\n",
            "(-7, -3, 1, 2, 7)\n",
            "(-9, -6, -3, 7, 11)\n",
            "(-6, -5, 2, 3, 6)\n",
            "(-9, -8, 1, 7, 9)\n",
            "(-5, -3, -2, 1, 9)\n",
            "(-12, -4, -2, 7, 11)\n",
            "(-8, -5, 1, 3, 9)\n",
            "(-12, -7, 3, 7, 9)\n",
            "(-12, -5, 2, 6, 9)\n",
            "(-8, -3, -2, 2, 11)\n",
            "(-9, -7, 1, 6, 9)\n",
            "(-9, -5, -3, 6, 11)\n",
            "(-12, -5, -3, 9, 11)\n",
            "(-9, -6, 1, 3, 11)\n",
            "(-5, -4, -2, 2, 9)\n",
            "(-9, -4, -2, 6, 9)\n",
            "(-8, -7, 2, 6, 7)\n",
            "(-12, -8, 2, 7, 11)\n",
            "(-12, -9, 1, 9, 11)\n"
          ]
        },
        {
          "output_type": "stream",
          "name": "stderr",
          "text": [
            "<ipython-input-1-315b111cf8c1>:6: DeprecationWarning: Sampling from a set deprecated\n",
            "since Python 3.9 and will be removed in a subsequent version.\n",
            "  B=r.sample(A,5)\n"
          ]
        }
      ]
    },
    {
      "cell_type": "markdown",
      "source": [
        "## **Problem Set 2 (SET SIZE 3 TO 6)**"
      ],
      "metadata": {
        "id": "P0by_n3A0vpJ"
      }
    },
    {
      "cell_type": "code",
      "source": [
        "import random as r\n",
        "A=set([-12, -3, -6, 7, 2, -2, 6, 3, 9, -7, -5, -8, 1, 11, -9, -4])\n",
        "C=set()\n",
        "v=1000\n",
        "ll=3\n",
        "ul=6\n",
        "for i in range(v):\n",
        "  size=r.randint(ll,ul)\n",
        "  B=r.sample(A,size)\n",
        "  B.sort()\n",
        "  if (sum(B)==0):\n",
        "    C.add(tuple(B))\n",
        "for r in C:\n",
        "  print(r)"
      ],
      "metadata": {
        "colab": {
          "base_uri": "https://localhost:8080/"
        },
        "id": "X5GK98rezOb4",
        "outputId": "d1b5fec4-dacb-4d2c-95cf-911985eef980"
      },
      "execution_count": 3,
      "outputs": [
        {
          "output_type": "stream",
          "name": "stdout",
          "text": [
            "(-12, -5, -4, 1, 9, 11)\n",
            "(-9, -8, -3, 9, 11)\n",
            "(-7, -5, 3, 9)\n",
            "(-6, -5, -4, -2, 6, 11)\n",
            "(-8, -6, 3, 11)\n",
            "(-8, -6, 1, 6, 7)\n",
            "(-5, 2, 3)\n",
            "(-6, -2, 1, 7)\n",
            "(-12, 3, 9)\n",
            "(-7, -6, -5, 1, 6, 11)\n",
            "(-6, -3, -2, 11)\n",
            "(-6, -4, 3, 7)\n",
            "(-8, -4, -2, 1, 6, 7)\n",
            "(-8, -7, -4, 2, 6, 11)\n",
            "(-8, -3, -2, 6, 7)\n",
            "(-5, -2, 1, 6)\n",
            "(-8, 1, 7)\n",
            "(-9, -6, -3, 7, 11)\n",
            "(-7, -4, 11)\n",
            "(-12, -5, -2, 1, 7, 11)\n",
            "(-9, -7, -2, 7, 11)\n",
            "(-9, -2, 11)\n",
            "(-6, -3, 9)\n",
            "(-8, -4, 1, 2, 9)\n",
            "(-4, -2, 6)\n",
            "(-6, -5, -3, 2, 3, 9)\n",
            "(-12, -6, 7, 11)\n",
            "(-5, -2, 7)\n",
            "(-8, -7, 1, 2, 3, 9)\n",
            "(-8, -7, -5, 9, 11)\n",
            "(-6, -5, 11)\n",
            "(-8, -3, -2, 1, 3, 9)\n",
            "(-3, 1, 2)\n",
            "(-7, -4, -2, 1, 3, 9)\n",
            "(-9, 3, 6)\n",
            "(-12, -8, 2, 7, 11)\n",
            "(-6, -5, -2, 6, 7)\n",
            "(-9, 1, 2, 6)\n",
            "(-12, -7, -2, 1, 9, 11)\n",
            "(-7, -2, 3, 6)\n"
          ]
        },
        {
          "output_type": "stream",
          "name": "stderr",
          "text": [
            "<ipython-input-3-2919dc99fcb6>:9: DeprecationWarning: Sampling from a set deprecated\n",
            "since Python 3.9 and will be removed in a subsequent version.\n",
            "  B=r.sample(A,size)\n"
          ]
        }
      ]
    }
  ]
}